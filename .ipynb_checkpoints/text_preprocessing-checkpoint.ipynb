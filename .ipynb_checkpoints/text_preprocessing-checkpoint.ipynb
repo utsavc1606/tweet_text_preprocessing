{
 "cells": [
  {
   "cell_type": "markdown",
   "metadata": {},
   "source": [
    "<h3>Looking at the structure of a tweet</h3>"
   ]
  },
  {
   "cell_type": "code",
   "execution_count": null,
   "metadata": {
    "scrolled": false
   },
   "outputs": [],
   "source": [
    "import json\n",
    "\n",
    "input_file_path = 'C:\\\\Users\\\\Utsav Chatterjee\\\\Documents\\\\python_code\\\\collected_twitter_data\\\\'\n",
    "input_data_file = 'test_tweets.json'\n",
    "\n",
    "with open(input_file_path + input_data_file, 'r') as f:\n",
    "    line = f.readline() # read only the first tweet/line\n",
    "    tweet = json.loads(line) # load it as Python dict\n",
    "    print(json.dumps(tweet, indent=4)) # pretty-print"
   ]
  },
  {
   "cell_type": "markdown",
   "metadata": {},
   "source": [
    "<h3>Converting tweets from json format into tab separated and writing to a file</h3>"
   ]
  },
  {
   "cell_type": "code",
   "execution_count": null,
   "metadata": {
    "scrolled": false
   },
   "outputs": [],
   "source": [
    "import re\n",
    "import sys\n",
    "\n",
    "with open(input_file_path + input_data_file, 'r') as f:\n",
    "    lines = f.readlines() # read tweets/lines\n",
    "\n",
    "sys.stdout = open('pipe_separated_file_2.txt', 'w')\n",
    "\n",
    "    \n",
    "keys_list = [\"created_at\", \n",
    "             \"id_str\", \n",
    "             \"text\", \n",
    "             \"source\",\n",
    "             \"user\",\n",
    "             \"geo\", \n",
    "             \"coordinates\", \n",
    "             \"place\", \n",
    "             \"reply_count\", \n",
    "             \"retweet_count\", \n",
    "             \"favorite_count\", \n",
    "             #\"entities\", \n",
    "             \"favorited\", \n",
    "             \"retweeted\", \n",
    "             \"filter_level\"]\n",
    "\n",
    "user_keys_list = [\"id\",\n",
    "                 \"name\",\n",
    "                 \"screen_name\",\n",
    "                 \"location\",\n",
    "                 \"description\",\n",
    "                 \"followers_count\",\n",
    "                 \"friends_count\",\n",
    "                 \"listed_count\",\n",
    "                 \"favourites_count\",\n",
    "                 \"statuses_count\",\n",
    "                 \"created_at\",\n",
    "                 \"time_zone\",\n",
    "                 \"geo_enabled\",\n",
    "                 \"lang\"]\n",
    "final_tweet_list = []\n",
    "for l in lines:\n",
    "    if len(l) > 1:\n",
    "        tweet_list = []\n",
    "        #print(\"----------------------------------\")\n",
    "        tweet = json.loads(l) # load it as Python dict\n",
    "        for keys in keys_list:\n",
    "            if keys != \"user\":\n",
    "                tweet_list.append(str(tweet[keys]))\n",
    "            else:\n",
    "                for key in user_keys_list:\n",
    "                    tweet_list.append(str(tweet[keys][key]))\n",
    "        final_tweet_list.append(\"|\".join(tweet_list))\n",
    "\n",
    "print(\"b'created_at|id_str|text|source|id|name|screen_name|location|description|followers_count|friends_count|listed_count|favourites_count|statuses_count|created_at|time_zone|geo_enabled|lang|geo|coordinates|place|reply_count|retweet_count|favorite_count|favorited|retweeted|filter_level'\")\n",
    "for i in final_tweet_list:\n",
    "    print(i.encode(\"ascii\", 'ignore'))\n",
    "\n",
    "sys.stdout.close()"
   ]
  },
  {
   "cell_type": "code",
   "execution_count": null,
   "metadata": {},
   "outputs": [],
   "source": []
  }
 ],
 "metadata": {
  "kernelspec": {
   "display_name": "Python 3",
   "language": "python",
   "name": "python3"
  },
  "language_info": {
   "codemirror_mode": {
    "name": "ipython",
    "version": 3
   },
   "file_extension": ".py",
   "mimetype": "text/x-python",
   "name": "python",
   "nbconvert_exporter": "python",
   "pygments_lexer": "ipython3",
   "version": "3.6.4"
  }
 },
 "nbformat": 4,
 "nbformat_minor": 2
}
